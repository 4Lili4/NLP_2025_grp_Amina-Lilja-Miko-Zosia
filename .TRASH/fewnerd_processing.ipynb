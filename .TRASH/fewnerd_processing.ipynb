{
 "cells": [
  {
   "cell_type": "code",
   "execution_count": null,
   "id": "08971f1b-fd2f-48da-889e-73c009d27f50",
   "metadata": {},
   "outputs": [],
   "source": [
    "import pandas as pd"
   ]
  },
  {
   "cell_type": "code",
   "execution_count": null,
   "id": "ad99d865-3f5d-48f2-ba2f-2a355901507e",
   "metadata": {},
   "outputs": [],
   "source": [
    "csv_data=pd.read_csv(\"../data-files_and_results/fewnerd-data/train.txt\", sep=\"\\t\", header=None, names=[\"-DOCSTART-\", \"-X- O O\"], skip_blank_lines=False)"
   ]
  },
  {
   "cell_type": "code",
   "execution_count": null,
   "id": "d054b04d-9f30-446a-af1c-c6718e4a10d1",
   "metadata": {},
   "outputs": [],
   "source": [
    "started=False\n",
    "for index, row in csv_data.iterrows():\n",
    "    tag=row.iloc[1]\n",
    "    \n",
    "    if pd.isna(csv_data.iloc[index, 1]):\n",
    "        continue\n",
    "        \n",
    "    if tag==\"O\":\n",
    "        started=False\n",
    "    \n",
    "    elif tag.startswith(\"art\") or tag.startswith(\"product\") or tag.startswith(\"event\"):\n",
    "        csv_data.iloc[index, 1]=\"O\"\n",
    "        started=False\n",
    "        \n",
    "    elif tag.startswith(\"building\") or tag.startswith(\"location\"):\n",
    "        if started==False:\n",
    "            csv_data.iloc[index, 1]=\"B-LOC\"\n",
    "            started=True\n",
    "            \n",
    "        else:\n",
    "            csv_data.iloc[index, 1]=\"I-LOC\"\n",
    "        \n",
    "    elif tag.startswith(\"organization\"):\n",
    "        if started==False:\n",
    "            csv_data.iloc[index, 1]=\"B-ORG\"\n",
    "            started=True\n",
    "            \n",
    "        else:\n",
    "            csv_data.iloc[index, 1]=\"I-ORG\"\n",
    "            \n",
    "    elif tag.startswith(\"person\"):\n",
    "        if started==False:\n",
    "            csv_data.iloc[index, 1]=\"B-PER\"\n",
    "            started=True\n",
    "        else:\n",
    "            csv_data.iloc[index, 1]=\"I-PER\"\n",
    "            \n",
    "    elif tag.startswith(\"other\"):\n",
    "        if tag==\"other-god\":\n",
    "            if started==False:\n",
    "                csv_data.iloc[index, 1]=\"B-PER\"\n",
    "                started=True\n",
    "            else:\n",
    "                csv_data.iloc[index, 1]=\"I-PER\"\n",
    "        else:\n",
    "            csv_data.iloc[index, 1]=\"O\"\n",
    "            started=False\n",
    "            \n",
    "    else:\n",
    "        print(\"Weird!\")"
   ]
  },
  {
   "cell_type": "code",
   "execution_count": null,
   "id": "4ff90552-587e-40a4-abb7-1e80f87de550",
   "metadata": {},
   "outputs": [],
   "source": [
    "csv_data.to_csv(\"../data-files_and_results/fewnerd-data/fewnerd-supervised-training-data.csv\", sep=\" \", index=False)"
   ]
  },
  {
   "cell_type": "code",
   "execution_count": null,
   "id": "0ecbc1e9-dbf9-4744-a80c-37a80288a057",
   "metadata": {},
   "outputs": [],
   "source": [
    "p_data=[]\n",
    "for line in open(\"fewnerd-supervised-training-data.csv\", encoding='utf-8'):\n",
    "    line=line.strip()\n",
    "    p_data.append(line)"
   ]
  },
  {
   "cell_type": "markdown",
   "id": "c2d0daa8-5ada-4db2-b933-85a25fb5a86e",
   "metadata": {},
   "source": [
    "# Attempts at CONLL-U format. Abandoned"
   ]
  },
  {
   "cell_type": "code",
   "execution_count": null,
   "id": "2b3b0fdf-ced4-4a43-80e2-a73f4ded9426",
   "metadata": {},
   "outputs": [],
   "source": [
    "processed_data=p_data[:round(len(p_data)/10)+52]"
   ]
  },
  {
   "cell_type": "code",
   "execution_count": null,
   "id": "44d0b723-22d2-4f19-9930-b532f1e2eef0",
   "metadata": {},
   "outputs": [],
   "source": [
    "nr_lines=len(processed_data)\n",
    "sentence=\"\"\n",
    "words=[]\n",
    "lines=[]\n",
    "for i, tokenandtag in reversed(list(enumerate(processed_data))):\n",
    "    print(\"Progress... line \", nr_lines-i, \" out of \", nr_lines, \" | \", str(round(100*((nr_lines-i)/nr_lines))), \"%\", end=\"\\r\")\n",
    "    if tokenandtag == \"\":\n",
    "        sentence=\" \".join(reversed(words))\n",
    "        words=[]\n",
    "        processed_data=processed_data[:i+1]+[f\"#\", f\"# text = {sentence}\"]+processed_data[i+1:]\n",
    "    elif i==0:\n",
    "        sentence=\" \".join(reversed(words))\n",
    "        word, _ = tokenandtag.split(\"\\t\")\n",
    "        processed_data=[f\"#\", f\"# text = {word} {sentence}\"]+processed_data[i:]\n",
    "    else:\n",
    "        try:\n",
    "            token, tag = tokenandtag.split(\"\\t\")\n",
    "            words.append(token)\n",
    "        except:\n",
    "            print(tokenandtag)"
   ]
  },
  {
   "cell_type": "code",
   "execution_count": null,
   "id": "b99b9583-bd51-4fcd-952c-b8cc7b381209",
   "metadata": {},
   "outputs": [],
   "source": [
    "data_w_htags=processed_data\n",
    "print(data_w_htags[:40])"
   ]
  },
  {
   "cell_type": "code",
   "execution_count": null,
   "id": "a387a5c6-ccab-4a87-abd9-c1b97de72bef",
   "metadata": {},
   "outputs": [],
   "source": [
    "nr_lines_2=len(data_w_htags)\n",
    "sent_id=1\n",
    "word_cnt=1\n",
    "text=False\n",
    "\n",
    "for i, line in enumerate(data_w_htags):\n",
    "    print(\"Line \", i, \" out of \", nr_lines_2, \" | \", str(round(100*(i/nr_lines_2))), \"% Progress...\", end=\"\\r\")\n",
    "    \n",
    "    if line==\"\":\n",
    "        continue\n",
    "        \n",
    "    if text==True:\n",
    "        text=False\n",
    "        continue\n",
    "        \n",
    "    if line[0]==\"#\":\n",
    "        data_w_htags[i]=f\"# sent_id = {sent_id}\"\n",
    "        sent_id+=1\n",
    "        word_cnt=1\n",
    "        text=True\n",
    "        \n",
    "    else:\n",
    "        data_w_htags[i]=f\"{word_cnt}\\t\"+data_w_htags[i]\n",
    "        word_cnt+=1"
   ]
  },
  {
   "cell_type": "code",
   "execution_count": null,
   "id": "a3d19e38-e240-450b-b4fa-315c3905419e",
   "metadata": {},
   "outputs": [],
   "source": [
    "done_data=data_w_htags\n",
    "print(done_data[:20])"
   ]
  },
  {
   "cell_type": "code",
   "execution_count": null,
   "id": "32c6419e-dcc0-47cf-b9ef-6f15c6b39c12",
   "metadata": {},
   "outputs": [],
   "source": [
    "with open(\"fewnerd-train.conllu\", \"w\", encoding=\"utf-8\") as f:\n",
    "    f.write(\"\\n\".join(done_data))"
   ]
  }
 ],
 "metadata": {
  "kernelspec": {
   "display_name": "Python 3 (ipykernel)",
   "language": "python",
   "name": "python3"
  },
  "language_info": {
   "codemirror_mode": {
    "name": "ipython",
    "version": 3
   },
   "file_extension": ".py",
   "mimetype": "text/x-python",
   "name": "python",
   "nbconvert_exporter": "python",
   "pygments_lexer": "ipython3",
   "version": "3.12.9"
  }
 },
 "nbformat": 4,
 "nbformat_minor": 5
}
