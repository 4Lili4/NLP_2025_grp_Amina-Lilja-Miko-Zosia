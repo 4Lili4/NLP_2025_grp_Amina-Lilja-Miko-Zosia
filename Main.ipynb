{
 "cells": [
  {
   "cell_type": "markdown",
   "id": "76c2f6ca-dc33-4baa-9cb3-ef241993ae1b",
   "metadata": {},
   "source": [
    "## Imports"
   ]
  },
  {
   "cell_type": "code",
   "execution_count": null,
   "id": "6433bcac-ff3c-4d62-9607-f505f3a83661",
   "metadata": {},
   "outputs": [],
   "source": [
    "from splitting_silver_data import read_from_hf_and_save_to_pkl, divide_and_conquer\n",
    "from analysing_results_1 import inter_annotator, silver_data_metrics\n",
    "import pandas as pd\n",
    "import spacy\n"
   ]
  },
  {
   "cell_type": "markdown",
   "id": "f448e26e-049c-4aee-ba2a-d222b1a6b2a8",
   "metadata": {},
   "source": [
    "## Paths for data sources"
   ]
  },
  {
   "cell_type": "code",
   "execution_count": null,
   "id": "e9bab9f4-29ad-43a1-ac75-ccbc24c69df0",
   "metadata": {},
   "outputs": [],
   "source": [
    "wikiann_link=\"hf://datasets/unimelb-nlp/wikiann/\"\n",
    "wikiann_subset=\"data_files/subset_of_wikiann.pkl\"\n",
    "manual_analysis_results=\"results.csv\""
   ]
  },
  {
   "cell_type": "markdown",
   "id": "8fca115f-fa42-4f7b-9beb-bd53530aaa3b",
   "metadata": {},
   "source": [
    "# Approach 1: manually re-annotating silver data\n",
    "Take a subset of the silver dataset WikiAnn, and divide it between the group members (with overlap s.t. each sentence gets annotated by 2 people)"
   ]
  },
  {
   "cell_type": "code",
   "execution_count": null,
   "id": "58c68699-856a-416f-998e-7f678985a5a7",
   "metadata": {},
   "outputs": [],
   "source": [
    "#Beware that this cell fetches the data from huggingface. It can be ignored in the future.\n",
    "read_from_hf_and_save_to_pkl(link=wikiann_link, save_as=wikiann_subset, subset_size=2000)"
   ]
  },
  {
   "cell_type": "code",
   "execution_count": null,
   "id": "993af1da-7ee4-4b56-aed8-0c5f48058687",
   "metadata": {},
   "outputs": [],
   "source": [
    "#Split the data between group members\n",
    "silver = divide_and_conquer(pkl_link=wikiann_subset, grp_mmbrs=['Am', 'Li', 'Mi', 'Zo'])\n",
    "\n",
    "#The above function creates an excel sheet for each group member, which is then manually annotated, and combined with the others' results\n",
    "# The gathered results are read in below"
   ]
  },
  {
   "cell_type": "markdown",
   "id": "20860e08-4f9e-49e8-8b6a-b97e00a513af",
   "metadata": {},
   "source": [
    "## Inter-annotator results\n",
    "To Interpret Kappa Score:\n",
    "- < 0.2: Poor agreement\n",
    "- 0.2 - 0.4: Fair\n",
    "- 0.4 - 0.6: Moderate\n",
    "- 0.6 - 0.8: Substantial\n",
    "- 0.8 - 1.0: Near-perfect"
   ]
  },
  {
   "cell_type": "code",
   "execution_count": null,
   "id": "d5c7d5b7-d75d-48fc-be02-18684c73cabf",
   "metadata": {},
   "outputs": [],
   "source": [
    "#Read in the results and analyse inter-annotator agreement results\n",
    "resultsA, resultsB = inter_annotator(results_csv=manual_analysis_results)"
   ]
  },
  {
   "cell_type": "markdown",
   "id": "069b8ad4-f93e-460f-a0c8-099f6b7afa80",
   "metadata": {},
   "source": [
    "## Annotator-silver results"
   ]
  },
  {
   "cell_type": "code",
   "execution_count": null,
   "id": "8a439681-78ed-45f6-86b4-45407b61b84a",
   "metadata": {},
   "outputs": [],
   "source": [
    "#Analysis of annotators vs. silver data\n",
    "silver_data_metrics(gold_a = resultsA, gold_b = resultsB, silver_data = silver)"
   ]
  },
  {
   "cell_type": "markdown",
   "id": "aef0a6a9-d629-4969-b324-51d0745edc42",
   "metadata": {},
   "source": [
    "### Plotting (overtaking the government? Nono, just plotting the results)"
   ]
  },
  {
   "cell_type": "code",
   "execution_count": null,
   "id": "237c1dea-4f91-4cdc-9b35-b19ddeef05e4",
   "metadata": {},
   "outputs": [],
   "source": []
  },
  {
   "cell_type": "markdown",
   "id": "b6c2eec7-4d49-41fd-a6b5-ac7d3e444bb7",
   "metadata": {},
   "source": [
    "# Approach 2: create new silver data\n",
    "Take a subset of the gold dataset FewNerd, train an NER tagger on it, and test the tagger on another subset of fewnerd, as well as the manual and silver annotations from approach 1, to get a thorough analysis"
   ]
  },
  {
   "cell_type": "code",
   "execution_count": null,
   "id": "84a0b1f1-a049-4a61-a273-ab322e2b04ec",
   "metadata": {},
   "outputs": [],
   "source": [
    "#"
   ]
  }
 ],
 "metadata": {
  "kernelspec": {
   "display_name": "Python 3 (ipykernel)",
   "language": "python",
   "name": "python3"
  },
  "language_info": {
   "codemirror_mode": {
    "name": "ipython",
    "version": 3
   },
   "file_extension": ".py",
   "mimetype": "text/x-python",
   "name": "python",
   "nbconvert_exporter": "python",
   "pygments_lexer": "ipython3",
   "version": "3.12.3"
  }
 },
 "nbformat": 4,
 "nbformat_minor": 5
}
