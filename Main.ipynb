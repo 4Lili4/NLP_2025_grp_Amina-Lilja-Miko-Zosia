{
 "cells": [
  {
   "cell_type": "markdown",
   "id": "76c2f6ca-dc33-4baa-9cb3-ef241993ae1b",
   "metadata": {},
   "source": [
    "## Imports"
   ]
  },
  {
   "cell_type": "code",
   "execution_count": null,
   "id": "6433bcac-ff3c-4d62-9607-f505f3a83661",
   "metadata": {},
   "outputs": [],
   "source": [
    "from python_files.splitting_silver_data import read_from_hf_and_save_to_pkl, divide_and_conquer\n",
    "from python_files.analysing_results_1 import inter_annotator, silver_data_metrics\n",
    "from python_files.in_depth_analysis_1 import plotting_wikiann\n",
    "from python_files.fewnerd_processing import data_processing"
   ]
  },
  {
   "cell_type": "markdown",
   "id": "f448e26e-049c-4aee-ba2a-d222b1a6b2a8",
   "metadata": {},
   "source": [
    "## Paths for data sources"
   ]
  },
  {
   "cell_type": "code",
   "execution_count": null,
   "id": "e9bab9f4-29ad-43a1-ac75-ccbc24c69df0",
   "metadata": {},
   "outputs": [],
   "source": [
    "wikiann_link=\"hf://datasets/unimelb-nlp/wikiann/\"\n",
    "wikiann_subset=\"data-files_and_results/subset_of_wikiann.pkl\"\n",
    "manual_analysis_results=\"data-files_and_results/annotations_Results.csv\"\n",
    "\n",
    "fewnerd_raw_data=\"data-files_and_results/fewnerd-data/train.txt\"\n",
    "fewnerd_processed_output=\"data-files_and_results/fewnerd_train.conll\"\n",
    "\n",
    "colors=[\"managua\", \"Blues\"]"
   ]
  },
  {
   "cell_type": "markdown",
   "id": "8fca115f-fa42-4f7b-9beb-bd53530aaa3b",
   "metadata": {},
   "source": [
    "# Approach 1: manually re-annotating silver data\n",
    "Take a subset of the silver dataset WikiAnn, and divide it between the group members (with overlap s.t. each sentence gets annotated by 2 people)"
   ]
  },
  {
   "cell_type": "markdown",
   "id": "b64efae2-f7e1-4807-ac36-2aaac89de767",
   "metadata": {},
   "source": [
    "Beware that this cell fetches the data from huggingface and saves it as a pkl in our repository. For this reason, it has been written into markdown, and can be ignored in the future.\n",
    "```\n",
    "read_from_hf_and_save_to_pkl(link=wikiann_link, save_as=wikiann_subset, subset_size=2000)\n",
    "```"
   ]
  },
  {
   "cell_type": "code",
   "execution_count": null,
   "id": "993af1da-7ee4-4b56-aed8-0c5f48058687",
   "metadata": {},
   "outputs": [],
   "source": [
    "#Split the data between group members\n",
    "silver_data_list = divide_and_conquer(pkl_link=wikiann_subset, grp_mmbrs=['Am', 'Li', 'Mi', 'Zo'])\n",
    "\n",
    "#The above function creates an excel sheet for each group member, which is then manually annotated, and combined with the others' results\n",
    "# The gathered results are read in below"
   ]
  },
  {
   "cell_type": "markdown",
   "id": "20860e08-4f9e-49e8-8b6a-b97e00a513af",
   "metadata": {},
   "source": [
    "## Inter-annotator results\n",
    "To Interpret Kappa Score:\n",
    "- < 0.2: Poor agreement\n",
    "- 0.2 - 0.4: Fair\n",
    "- 0.4 - 0.6: Moderate\n",
    "- 0.6 - 0.8: Substantial\n",
    "- 0.8 - 1.0: Near-perfect"
   ]
  },
  {
   "cell_type": "code",
   "execution_count": null,
   "id": "d5c7d5b7-d75d-48fc-be02-18684c73cabf",
   "metadata": {},
   "outputs": [],
   "source": [
    "#Read in the results and analyse inter-annotator agreement results\n",
    "combined_results_pd, resultsA, resultsB = inter_annotator(results_csv=manual_analysis_results)"
   ]
  },
  {
   "cell_type": "markdown",
   "id": "069b8ad4-f93e-460f-a0c8-099f6b7afa80",
   "metadata": {},
   "source": [
    "## Annotator-silver results"
   ]
  },
  {
   "cell_type": "code",
   "execution_count": null,
   "id": "8a439681-78ed-45f6-86b4-45407b61b84a",
   "metadata": {},
   "outputs": [],
   "source": [
    "#Analysis of annotators vs. silver data\n",
    "silver_data_metrics(gold_a = resultsA, gold_b = resultsB, silver = silver_data_list, results=combined_results_pd)"
   ]
  },
  {
   "cell_type": "markdown",
   "id": "aef0a6a9-d629-4969-b324-51d0745edc42",
   "metadata": {},
   "source": [
    "### Plotting (overtaking the government? Nono, just plotting the results)"
   ]
  },
  {
   "cell_type": "code",
   "execution_count": null,
   "id": "237c1dea-4f91-4cdc-9b35-b19ddeef05e4",
   "metadata": {},
   "outputs": [],
   "source": [
    "plotting_wikiann(results=combined_results_pd, silver = silver_data_list , gold_a = resultsA, gold_b = resultsB, colours=colors)"
   ]
  },
  {
   "cell_type": "markdown",
   "id": "b6c2eec7-4d49-41fd-a6b5-ac7d3e444bb7",
   "metadata": {},
   "source": [
    "# Approach 2: create new silver data\n",
    "Take a subset of the gold dataset FewNerd, train an NER tagger on it, and test the tagger on another subset of fewnerd, as well as the manual and silver annotations from approach 1, to get a thorough analysis"
   ]
  },
  {
   "cell_type": "code",
   "execution_count": null,
   "id": "84a0b1f1-a049-4a61-a273-ab322e2b04ec",
   "metadata": {},
   "outputs": [],
   "source": [
    "#WARNING! This code block takes a while, and the data it creates is already available in the repository\n",
    "data_processing(input_path=fewnerd_raw_data, output_path=fewnerd_processed_output)"
   ]
  },
  {
   "cell_type": "markdown",
   "id": "b4038fd3-6a42-4409-a688-cde9f89aa965",
   "metadata": {},
   "source": [
    "## In the command line:\n",
    "```\n",
    "python -m spacy convert data-files_and_results/fewnerd_train.conll data-files_and_results/ -c ner #repeat for dev and test\n",
    "\n",
    "python -m spacy init fill-config python_files/base_config.cfg python_files/spacy_config.cfg\n",
    "\n",
    "python -m spacy train python_files/spacy_config.cfg --output python_files/spacy_output/ –-paths.train data-files_and_results/fewnerd_train.spacy --paths.dev data-files_and_results/fewnerd_dev.spacy\n",
    "\n",
    "python -m spacy benchmark accuracy python_files/spacy_output/model-best data-files_and_results/fewnerd_test.spacy --output data-files_and_results/spacy_fewnerd_results.json\n",
    "```"
   ]
  },
  {
   "cell_type": "code",
   "execution_count": null,
   "id": "164e74ef-eb36-4388-9831-51f82e2441b6",
   "metadata": {},
   "outputs": [],
   "source": [
    "with open(\"data-files_and_results/spacy_fewnerd_results.json\", \"r\", encoding=\"utf-8\") as f:\n",
    "    results=f.read()\n",
    "print(results.split(\",\")[4:7])"
   ]
  },
  {
   "cell_type": "code",
   "execution_count": null,
   "id": "858b3ff1-5c58-483c-b4a1-a2b90e298e32",
   "metadata": {},
   "outputs": [],
   "source": []
  }
 ],
 "metadata": {
  "kernelspec": {
   "display_name": "Python 3 (ipykernel)",
   "language": "python",
   "name": "python3"
  },
  "language_info": {
   "codemirror_mode": {
    "name": "ipython",
    "version": 3
   },
   "file_extension": ".py",
   "mimetype": "text/x-python",
   "name": "python",
   "nbconvert_exporter": "python",
   "pygments_lexer": "ipython3",
   "version": "3.12.3"
  }
 },
 "nbformat": 4,
 "nbformat_minor": 5
}
