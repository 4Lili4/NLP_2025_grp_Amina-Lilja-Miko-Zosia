{
 "cells": [
  {
   "cell_type": "code",
   "execution_count": 1,
   "id": "7ca5bb9c-df9a-4ec3-9c22-e2bf2172fd19",
   "metadata": {},
   "outputs": [],
   "source": [
    "import pandas as pd\n",
    "import spacy\n",
    "import snorkel"
   ]
  },
  {
   "cell_type": "markdown",
   "id": "561406a6-fec7-4fb3-9e30-6d6f69dab615",
   "metadata": {},
   "source": [
    "# Reading in and working with the data\n",
    "The few-NERD data is much more detailed than we need, if we want to make a direct comparison to the silver data we have previously worked on. Therefore, we need to read in the few-NERD data and convert it to our preferred format (with labels O-6). We then save that in a new csv file so we don't have to convert everything every time we want to work with the data. In the future, only the already converted csv will be read in ;-)\n",
    "```\n",
    "csv_data=pd.read_csv(\"supervised/train.txt\", sep=\"\\t\", header=None, names=[\"Tokens\", \"Tags\"], skip_blank_lines=False)\n",
    "started=False\n",
    "for index, row in csv_data.iterrows():\n",
    "    tag=row.iloc[1]\n",
    "    \n",
    "    if pd.isna(csv_data.iloc[index, 1]):\n",
    "        continue\n",
    "        \n",
    "    if tag==\"O\":\n",
    "        started=False\n",
    "    \n",
    "    elif tag.startswith(\"art\") or tag.startswith(\"product\") or tag.startswith(\"event\"):\n",
    "        csv_data.iloc[index, 1]=\"O\"\n",
    "        started=False\n",
    "        \n",
    "    elif tag.startswith(\"building\") or tag.startswith(\"location\"):\n",
    "        if started==False:\n",
    "            csv_data.iloc[index, 1]=\"5\"\n",
    "            started=True\n",
    "            \n",
    "        else:\n",
    "            csv_data.iloc[index, 1]=\"6\"\n",
    "        \n",
    "    elif tag.startswith(\"organization\"):\n",
    "        if started==False:\n",
    "            csv_data.iloc[index, 1]=\"3\"\n",
    "            started=True\n",
    "            \n",
    "        else:\n",
    "            csv_data.iloc[index, 1]=\"4\"\n",
    "            \n",
    "    elif tag.startswith(\"person\"):\n",
    "        if started==False:\n",
    "            csv_data.iloc[index, 1]=\"1\"\n",
    "            started=True\n",
    "        else:\n",
    "            csv_data.iloc[index, 1]=\"2\"\n",
    "            \n",
    "    elif tag.startswith(\"other\"):\n",
    "        if tag==\"other-god\":\n",
    "            if started==False:\n",
    "                csv_data.iloc[index, 1]=\"1\"\n",
    "                started=True\n",
    "            else:\n",
    "                csv_data.iloc[index, 1]=\"2\"\n",
    "        else:\n",
    "            csv_data.iloc[index, 1]=\"O\"\n",
    "            started=False\n",
    "            \n",
    "    else:\n",
    "        print(\"Weird!\")\n",
    "csv_data.to_csv(\"fewnerd-supervised-training-data.csv\", sep=\"\\t\", index=False)\n",
    "```"
   ]
  },
  {
   "cell_type": "code",
   "execution_count": 2,
   "id": "26b9a28b-cc7f-4a21-b6e9-4933e7db7490",
   "metadata": {},
   "outputs": [],
   "source": [
    "processed_data=[]\n",
    "for line in open(\"fewnerd-supervised-training-data.csv\", encoding='utf-8'):\n",
    "    line=line.strip()\n",
    "    processed_data.append(line)"
   ]
  },
  {
   "cell_type": "code",
   "execution_count": null,
   "id": "afd1e54a-5b7d-405d-9f65-cbda0fd8deb3",
   "metadata": {},
   "outputs": [],
   "source": [
    "sentence=\"\"\n",
    "words=[]\n",
    "lines=[]\n",
    "for i, tokenandtag in reversed(list(enumerate(processed_data))):\n",
    "    if tokenandtag == \"\":\n",
    "        sentence=\" \".join(reversed(words))\n",
    "        words=[]\n",
    "        processed_data=processed_data[:i+1]+[f\"#\", f\"# text = {sentence}\"]+processed_data[i+1:]\n",
    "    elif i==0:\n",
    "        sentence=\" \".join(reversed(words))\n",
    "        word, _ = tokenandtag.split(\"\\t\")\n",
    "        processed_data=[f\"# sent_id = {i+1}\"]+[f\"# text = {word} {sentence}\"]+processed_data[i:]\n",
    "    else:\n",
    "        try:\n",
    "            token, tag = tokenandtag.split(\"\\t\")\n",
    "            words.append(token)\n",
    "        except:\n",
    "            print(tokenandtag)\n"
   ]
  },
  {
   "cell_type": "code",
   "execution_count": null,
   "id": "a496f69c-f9fd-4cfa-8a88-55d0390c97ca",
   "metadata": {},
   "outputs": [],
   "source": [
    "sent_id=1\n",
    "word_cnt=1\n",
    "text=False\n",
    "\n",
    "for i, line in enumerate(processed_data):\n",
    "    if line==\"\":\n",
    "        continue\n",
    "        \n",
    "    if text==True:\n",
    "        text=False\n",
    "        continue\n",
    "        \n",
    "    if line[0]==\"#\":\n",
    "        processed_data[i]=f\"# sent_id = {sent_id}\"\n",
    "        sent_id+=1\n",
    "        word_cnt=1\n",
    "        text=True\n",
    "        \n",
    "    else:\n",
    "        processed_data[i]=f\"{word_cnt}\\t\"+processed_data[i]\n",
    "        word_cnt+=1\n",
    "\n",
    "print(\"\\n\".join(data[0:100]))"
   ]
  },
  {
   "cell_type": "code",
   "execution_count": null,
   "id": "2240f4fb-c717-4af9-94cf-a6d4f69ece56",
   "metadata": {},
   "outputs": [],
   "source": []
  },
  {
   "cell_type": "code",
   "execution_count": null,
   "id": "8440cbca-0f12-4185-bcc6-a1b70abe52e1",
   "metadata": {},
   "outputs": [],
   "source": []
  },
  {
   "cell_type": "code",
   "execution_count": null,
   "id": "eb498b93-bce0-4b7e-ac0b-5ca7fdac2d6b",
   "metadata": {},
   "outputs": [],
   "source": [
    "with open(\"fewnerd-supervised-training-data.csv\", encoding=\"utf-8\") as file:\n",
    "    train=file.read()\n",
    "    \n",
    "training_data_70=pd.read_csv(\"fewnerd-supervised-training-data.csv\", sep=\"\\t\")\n",
    "validation_data_10=pd.read_csv(\"fewnerd-supervised-validation-data.csv\", sep=\"\\t\")\n",
    "testing_data_20=pd.read_csv(\"fewnerd-supervised-testing-data.csv\", sep=\"\\t\")"
   ]
  },
  {
   "cell_type": "code",
   "execution_count": null,
   "id": "2b32959e-efd2-44e2-acb5-6ef9ebb306b5",
   "metadata": {},
   "outputs": [],
   "source": [
    "training_data_70.head(40)"
   ]
  },
  {
   "cell_type": "markdown",
   "id": "0980c1ca-fcf3-46ff-8390-141ed615c864",
   "metadata": {},
   "source": [
    "# With SpaCy\n",
    "SpaCy recommends using their config file through the command line"
   ]
  },
  {
   "cell_type": "code",
   "execution_count": null,
   "id": "faec4e5a-077a-4a87-ab97-54e1f77e278a",
   "metadata": {},
   "outputs": [],
   "source": [
    "from spacy.cli.train import train\n",
    "\n",
    "train(\"base_config.cfg\", overrides={\"paths.train\": \"./train.spacy\", \"paths.dev\": \"./dev.spacy\"})\n"
   ]
  },
  {
   "cell_type": "code",
   "execution_count": null,
   "id": "7847c8d1-f911-45fb-9c91-d20406051ed7",
   "metadata": {},
   "outputs": [],
   "source": [
    "from spacy.cli import download\n",
    "\n",
    "download(\"en_core_web_sm\")"
   ]
  },
  {
   "cell_type": "code",
   "execution_count": null,
   "id": "6f5dcffe-ed79-4688-99ac-69f1942a9867",
   "metadata": {},
   "outputs": [],
   "source": [
    "nlp=spacy.load(\"en_core_web_sm\")\n",
    "doc=nlp(test123)\n",
    "for ent in doc.ents:\n",
    "    print(ent.text, \" | \", ent.label_)"
   ]
  },
  {
   "cell_type": "markdown",
   "id": "e6a86d76-c443-4cf0-a26b-73a6a5b7790b",
   "metadata": {},
   "source": [
    "# With Snorkel\n",
    "https://github.com/snorkel-team/snorkel"
   ]
  },
  {
   "cell_type": "code",
   "execution_count": null,
   "id": "0242ff50-6a3d-4da5-9ec0-a7cccbc4d9ff",
   "metadata": {},
   "outputs": [],
   "source": []
  },
  {
   "cell_type": "markdown",
   "id": "b2822643-cb6e-4af5-b636-60fef86d1517",
   "metadata": {},
   "source": [
    "# With Python Spark\n",
    "https://medium.com/john-snow-labs/named-entity-recognition-ner-with-python-at-scale-a37d7c241135"
   ]
  },
  {
   "cell_type": "code",
   "execution_count": null,
   "id": "dded9efa-f0ee-40ff-8088-1f5db3fb247a",
   "metadata": {},
   "outputs": [],
   "source": []
  }
 ],
 "metadata": {
  "kernelspec": {
   "display_name": "Python 3 (ipykernel)",
   "language": "python",
   "name": "python3"
  },
  "language_info": {
   "codemirror_mode": {
    "name": "ipython",
    "version": 3
   },
   "file_extension": ".py",
   "mimetype": "text/x-python",
   "name": "python",
   "nbconvert_exporter": "python",
   "pygments_lexer": "ipython3",
   "version": "3.12.3"
  }
 },
 "nbformat": 4,
 "nbformat_minor": 5
}
