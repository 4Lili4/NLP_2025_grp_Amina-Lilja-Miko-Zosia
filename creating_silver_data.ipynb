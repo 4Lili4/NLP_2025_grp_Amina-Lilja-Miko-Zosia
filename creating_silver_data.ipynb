{
 "cells": [
  {
   "cell_type": "code",
   "execution_count": null,
   "id": "7ca5bb9c-df9a-4ec3-9c22-e2bf2172fd19",
   "metadata": {},
   "outputs": [],
   "source": [
    "import pandas as pd"
   ]
  },
  {
   "cell_type": "markdown",
   "id": "561406a6-fec7-4fb3-9e30-6d6f69dab615",
   "metadata": {},
   "source": [
    "# Reading in and working with the data\n",
    "The few-NERD data is much more detailed than we need, if we want to make a direct comparison to the silver data we have previously worked on. Therefore, we need to read in the few-NERD data and convert it to our preferred format (with labels O-6). We then save that in a new csv file so we don't have to convert everything every time we want to work with the data. In the future, only the already converted csv will be read in ;-)\n",
    "```\n",
    "data=pd.read_csv(\"gold-to-silver/supervised/train.txt\", sep=\"\\t\", header=None, names=[\"Tokens\", \"Tags\"])\n",
    "started=False\n",
    "for index, row in data.iterrows():\n",
    "    tag=row.iloc[1]\n",
    "\n",
    "    if tag==\"O\":\n",
    "        started=False\n",
    "    \n",
    "    elif tag.startswith(\"art\") or tag.startswith(\"product\") or tag.startswith(\"event\"):\n",
    "        data.iloc[index, 1]=\"O\"\n",
    "        started=False\n",
    "        \n",
    "    elif tag.startswith(\"building\") or tag.startswith(\"location\"):\n",
    "        if started==False:\n",
    "            data.iloc[index, 1]=\"5\"\n",
    "            started=True\n",
    "            \n",
    "        else:\n",
    "            data.iloc[index, 1]=\"6\"\n",
    "        \n",
    "    elif tag.startswith(\"organization\"):\n",
    "        if started==False:\n",
    "            data.iloc[index, 1]=\"3\"\n",
    "            started=True\n",
    "            \n",
    "        else:\n",
    "            data.iloc[index, 1]=\"4\"\n",
    "            \n",
    "    elif tag.startswith(\"person\"):\n",
    "        if started==False:\n",
    "            data.iloc[index, 1]=\"1\"\n",
    "            started=True\n",
    "        else:\n",
    "            data.iloc[index, 1]=\"2\"\n",
    "            \n",
    "    elif tag.startswith(\"other\"):\n",
    "        if tag==\"other-god\":\n",
    "            if started==False:\n",
    "                data.iloc[index, 1]=\"1\"\n",
    "                started=True\n",
    "            else:\n",
    "                data.iloc[index, 1]=\"2\"\n",
    "        else:\n",
    "            data.iloc[index, 1]=\"O\"\n",
    "            started=False\n",
    "            \n",
    "    else:\n",
    "        print(\"Weird!\")\n",
    "data.to_csv(\"gold-to-silver/fewnerd-supervised-training-data.csv\", sep=\"\\t\", index=False)\n",
    "```"
   ]
  },
  {
   "cell_type": "code",
   "execution_count": null,
   "id": "eb498b93-bce0-4b7e-ac0b-5ca7fdac2d6b",
   "metadata": {},
   "outputs": [],
   "source": [
    "data=pd.read_csv(\"gold-to-silver/fewnerd-supervised-training-data.csv\", sep=\"\\t\")"
   ]
  },
  {
   "cell_type": "markdown",
   "id": "0980c1ca-fcf3-46ff-8390-141ed615c864",
   "metadata": {},
   "source": [
    "# With SpaCy"
   ]
  },
  {
   "cell_type": "code",
   "execution_count": null,
   "id": "6f5dcffe-ed79-4688-99ac-69f1942a9867",
   "metadata": {},
   "outputs": [],
   "source": []
  },
  {
   "cell_type": "markdown",
   "id": "e6a86d76-c443-4cf0-a26b-73a6a5b7790b",
   "metadata": {},
   "source": [
    "# With Snorkel"
   ]
  },
  {
   "cell_type": "code",
   "execution_count": null,
   "id": "0242ff50-6a3d-4da5-9ec0-a7cccbc4d9ff",
   "metadata": {},
   "outputs": [],
   "source": []
  },
  {
   "cell_type": "markdown",
   "id": "b2822643-cb6e-4af5-b636-60fef86d1517",
   "metadata": {},
   "source": [
    "# With Python Spark\n",
    "https://medium.com/john-snow-labs/named-entity-recognition-ner-with-python-at-scale-a37d7c241135"
   ]
  },
  {
   "cell_type": "code",
   "execution_count": null,
   "id": "dded9efa-f0ee-40ff-8088-1f5db3fb247a",
   "metadata": {},
   "outputs": [],
   "source": []
  }
 ],
 "metadata": {
  "kernelspec": {
   "display_name": "Python 3 (ipykernel)",
   "language": "python",
   "name": "python3"
  },
  "language_info": {
   "codemirror_mode": {
    "name": "ipython",
    "version": 3
   },
   "file_extension": ".py",
   "mimetype": "text/x-python",
   "name": "python",
   "nbconvert_exporter": "python",
   "pygments_lexer": "ipython3",
   "version": "3.13.2"
  }
 },
 "nbformat": 4,
 "nbformat_minor": 5
}
