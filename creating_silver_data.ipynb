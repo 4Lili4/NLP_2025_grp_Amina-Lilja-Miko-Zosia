{
 "cells": [
  {
   "cell_type": "code",
   "execution_count": 1,
   "id": "4a36be10-d66e-414b-ba02-a45e4bc034f7",
   "metadata": {},
   "outputs": [],
   "source": [
    "# With Snorkel"
   ]
  },
  {
   "cell_type": "code",
   "execution_count": 2,
   "id": "80230fb6-29b4-4802-80b4-46c6f98accdb",
   "metadata": {},
   "outputs": [],
   "source": [
    "# With SpaCy"
   ]
  },
  {
   "cell_type": "code",
   "execution_count": null,
   "id": "3e55f143-2f5e-463f-9478-06092182b814",
   "metadata": {},
   "outputs": [],
   "source": []
  }
 ],
 "metadata": {
  "kernelspec": {
   "display_name": "Python 3 (ipykernel)",
   "language": "python",
   "name": "python3"
  },
  "language_info": {
   "codemirror_mode": {
    "name": "ipython",
    "version": 3
   },
   "file_extension": ".py",
   "mimetype": "text/x-python",
   "name": "python",
   "nbconvert_exporter": "python",
   "pygments_lexer": "ipython3",
   "version": "3.13.2"
  }
 },
 "nbformat": 4,
 "nbformat_minor": 5
}
