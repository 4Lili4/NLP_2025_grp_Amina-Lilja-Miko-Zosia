{
 "cells": [
  {
   "cell_type": "markdown",
   "id": "4dc2e3eb-254a-4642-84c3-a6120f248de8",
   "metadata": {},
   "source": [
    "# Reading in the data"
   ]
  },
  {
   "cell_type": "code",
   "execution_count": null,
   "id": "d8f0dffa-c96e-4bc9-8e0a-26c624e9f340",
   "metadata": {},
   "outputs": [],
   "source": [
    "# Import libraries\n",
    "import pandas as pd\n",
    "import dill\n",
    "import numpy as np\n",
    "from sklearn.metrics import f1_score"
   ]
  },
  {
   "cell_type": "code",
   "execution_count": null,
   "id": "21a65e82-116a-46cd-a778-0af72f2389b7",
   "metadata": {},
   "outputs": [],
   "source": [
    "# Read in the data from the  huggingface library\n",
    "\n",
    "#splits = {'validation': 'en/validation-00000-of-00001.parquet', 'test': 'en/test-00000-of-00001.parquet', 'train': 'en/train-00000-of-00001.parquet'}\n",
    "#train = pd.read_parquet(\"hf://datasets/unimelb-nlp/wikiann/\" + splits[\"train\"])\n",
    "#val = pd.read_parquet(\"hf://datasets/unimelb-nlp/wikiann/\" + splits[\"validation\"])\n",
    "#test = pd.read_parquet(\"hf://datasets/unimelb-nlp/wikiann/\" + splits[\"test\"])"
   ]
  },
  {
   "cell_type": "code",
   "execution_count": null,
   "id": "be91f050-0321-4c72-852b-fc99a516062a",
   "metadata": {},
   "outputs": [],
   "source": [
    "# Extract 2000 rows from the training data\n",
    "\n",
    "#subset=train[train.index % 10 == 0].copy()\n",
    "#subset=subset[['tokens', 'ner_tags']]"
   ]
  },
  {
   "cell_type": "code",
   "execution_count": null,
   "id": "bab15c8b-09af-496c-872d-c46f16e34eef",
   "metadata": {},
   "outputs": [],
   "source": [
    "#with open('subset_of_wikiann.pkl', 'wb') as f:\n",
    "#    dill.dump(subset, f)"
   ]
  },
  {
   "cell_type": "code",
   "execution_count": null,
   "id": "a6adb53c-1ba6-48c9-80cb-33860fe0ecd0",
   "metadata": {},
   "outputs": [],
   "source": [
    "#silver_data=pd.read_csv('subset_file.csv', sep=';', encoding='UTF-8')\n",
    "with open('../data-files_and_results/subset_of_wikiann.pkl', 'rb') as f:\n",
    "    silver_data=dill.load(f)"
   ]
  },
  {
   "cell_type": "code",
   "execution_count": null,
   "id": "64616266-df20-40ec-91e6-f6db1a922148",
   "metadata": {},
   "outputs": [],
   "source": [
    "# Convert each list of tokens to a readable string\n",
    "\n",
    "sentences=[]\n",
    "for index, row in silver_data.iterrows():\n",
    "    sent=\" \".join(row['tokens'])\n",
    "    sent=\"# New sentence = \"+sent\n",
    "    sentences.append(sent)"
   ]
  },
  {
   "cell_type": "code",
   "execution_count": null,
   "id": "08cf511f-33dc-4ac0-972a-7a0deb96d838",
   "metadata": {},
   "outputs": [],
   "source": [
    "# Add the sentence strings before each list of strings row in the dataframe\n",
    "\n",
    "expanded=silver_data.copy()\n",
    "for i, sentence in reversed(list(enumerate(sentences))):\n",
    "    line=pd.DataFrame({'tokens':sentence, 'ner_tags':[0], 'langs':['en'], 'spans':['']})\n",
    "    expanded=pd.concat([expanded.iloc[:i], line, expanded.iloc[i:]]).reset_index(drop=True)"
   ]
  },
  {
   "cell_type": "code",
   "execution_count": null,
   "id": "e84a91e9-7c5f-4218-be02-b5ccf87c93df",
   "metadata": {},
   "outputs": [],
   "source": [
    "#all_tokens=expanded.explode('tokens')\n",
    "#toks=all_tokens['tokens']\n",
    "# toks.to_csv('gathered_results.csv', index=False, encoding='UTF-8', sep=';')"
   ]
  },
  {
   "cell_type": "markdown",
   "id": "e5a95a92-2169-432b-a2cd-4888a601fd78",
   "metadata": {},
   "source": [
    "# Dividing it between us"
   ]
  },
  {
   "cell_type": "code",
   "execution_count": null,
   "id": "64d10838-198e-4d7c-9ca7-dd5941564191",
   "metadata": {},
   "outputs": [],
   "source": [
    "A=expanded[0:1000]\n",
    "B=expanded[1000:2000]\n",
    "C=expanded[2000:3000]\n",
    "D=expanded[3000:4000]"
   ]
  },
  {
   "cell_type": "code",
   "execution_count": null,
   "id": "ad65ffaa-e811-41d5-9587-619fc40333d5",
   "metadata": {},
   "outputs": [],
   "source": [
    "Am=pd.concat([A, D])\n",
    "Amina=Am.explode('tokens')\n",
    "Amina['labels']=0\n",
    "Amina=Amina[['tokens', 'labels']]\n",
    "# Amina.to_csv('Amina_annotations.csv', index=False, encoding='UTF-8', sep=';')"
   ]
  },
  {
   "cell_type": "code",
   "execution_count": null,
   "id": "40e3b632-280f-450f-a573-cf2502735c3e",
   "metadata": {},
   "outputs": [],
   "source": [
    "Li=pd.concat([A,B])\n",
    "Lilja=Li.explode('tokens')\n",
    "Lilja['labels']=0\n",
    "Lilja=Lilja[['tokens', 'labels']]\n",
    "# Lilja.to_csv('Lilja_annotations.csv', index=False, encoding='UTF-8', sep=';')"
   ]
  },
  {
   "cell_type": "code",
   "execution_count": null,
   "id": "c4bada65-d1d8-4fbc-947b-4fd37d676140",
   "metadata": {},
   "outputs": [],
   "source": [
    "Mi=pd.concat([B,C])\n",
    "Miko=Mi.explode('tokens')\n",
    "Miko['labels']=0\n",
    "Miko=Miko[['tokens', 'labels']]\n",
    "# Miko.to_csv('Mikolaj_annotations.csv', index=False, encoding='UTF-8', sep=';')"
   ]
  },
  {
   "cell_type": "code",
   "execution_count": null,
   "id": "f28a5a14-5fa5-4fb5-92f5-44c59b2647f5",
   "metadata": {},
   "outputs": [],
   "source": [
    "Zo=pd.concat([C,D])\n",
    "Zosia=Zo.explode('tokens')\n",
    "Zosia['labels']=0\n",
    "Zosia=Zosia[['tokens', 'labels']]\n",
    "# Zosia.to_csv('Zosia_annotations.csv', index=False, encoding='UTF-8', sep=';')"
   ]
  },
  {
   "cell_type": "code",
   "execution_count": null,
   "id": "cf98475d-43b2-4c21-bd92-ed75b4ea889d",
   "metadata": {},
   "outputs": [],
   "source": []
  }
 ],
 "metadata": {
  "kernelspec": {
   "display_name": "Python [conda env:NLP_grp1]",
   "language": "python",
   "name": "conda-env-NLP_grp1-py"
  },
  "language_info": {
   "codemirror_mode": {
    "name": "ipython",
    "version": 3
   },
   "file_extension": ".py",
   "mimetype": "text/x-python",
   "name": "python",
   "nbconvert_exporter": "python",
   "pygments_lexer": "ipython3",
   "version": "3.12.3"
  }
 },
 "nbformat": 4,
 "nbformat_minor": 5
}
