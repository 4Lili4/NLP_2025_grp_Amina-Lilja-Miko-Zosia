{
 "cells": [
  {
   "cell_type": "code",
   "execution_count": null,
   "id": "7ca5bb9c-df9a-4ec3-9c22-e2bf2172fd19",
   "metadata": {},
   "outputs": [],
   "source": [
    "import spacy\n",
    "from spacy_conll import init_parser\n",
    "from spacy_conll.parser import conllParser"
   ]
  },
  {
   "cell_type": "code",
   "execution_count": null,
   "id": "8440cbca-0f12-4185-bcc6-a1b70abe52e1",
   "metadata": {},
   "outputs": [],
   "source": []
  },
  {
   "cell_type": "code",
   "execution_count": null,
   "id": "eb498b93-bce0-4b7e-ac0b-5ca7fdac2d6b",
   "metadata": {},
   "outputs": [],
   "source": [
    "with open(\"../data-files_and_results/fewnerd-train.conll\", encoding=\"utf-8\") as file:\n",
    "    train=file.read()\n",
    "    \n",
    "#training_data_70=pd.read_csv(\"fewnerd-supervised-training-data.csv\", sep=\"\\t\")\n",
    "#validation_data_10=pd.read_csv(\"fewnerd-supervised-validation-data.csv\", sep=\"\\t\")\n",
    "#  testing_data_20=pd.read_csv(\"fewnerd-supervised-testing-data.csv\", sep=\"\\t\")"
   ]
  },
  {
   "cell_type": "code",
   "execution_count": null,
   "id": "2b32959e-efd2-44e2-acb5-6ef9ebb306b5",
   "metadata": {},
   "outputs": [],
   "source": [
    "training_data_70.head(40)"
   ]
  },
  {
   "cell_type": "markdown",
   "id": "0980c1ca-fcf3-46ff-8390-141ed615c864",
   "metadata": {},
   "source": [
    "# With SpaCy\n",
    "SpaCy recommends using their config file through the command line"
   ]
  },
  {
   "cell_type": "code",
   "execution_count": null,
   "id": "faec4e5a-077a-4a87-ab97-54e1f77e278a",
   "metadata": {},
   "outputs": [],
   "source": [
    "from spacy.cli.train import train\n",
    "\n",
    "train(\"base_config.cfg\", overrides={\"paths.train\": \"./train.spacy\", \"paths.dev\": \"./dev.spacy\"})\n"
   ]
  },
  {
   "cell_type": "code",
   "execution_count": null,
   "id": "7847c8d1-f911-45fb-9c91-d20406051ed7",
   "metadata": {},
   "outputs": [],
   "source": [
    "from spacy.cli import download\n",
    "\n",
    "download(\"en_core_web_sm\")"
   ]
  },
  {
   "cell_type": "code",
   "execution_count": null,
   "id": "6f5dcffe-ed79-4688-99ac-69f1942a9867",
   "metadata": {},
   "outputs": [],
   "source": [
    "nlp=spacy.load(\"en_core_web_sm\")\n",
    "doc=nlp(test123)\n",
    "for ent in doc.ents:\n",
    "    print(ent.text, \" | \", ent.label_)"
   ]
  },
  {
   "cell_type": "markdown",
   "id": "b2822643-cb6e-4af5-b636-60fef86d1517",
   "metadata": {},
   "source": [
    "# With Python Spark\n",
    "https://medium.com/john-snow-labs/named-entity-recognition-ner-with-python-at-scale-a37d7c241135"
   ]
  },
  {
   "cell_type": "code",
   "execution_count": null,
   "id": "dded9efa-f0ee-40ff-8088-1f5db3fb247a",
   "metadata": {},
   "outputs": [],
   "source": [
    "from pyspark.sql import SparkSession\n",
    "from pyspark.ml import Pipeline\n",
    "from sparknlp.annotator import *\n",
    "from sparknlp.common import *\n",
    "from sparknlp.base import *\n",
    "import sparknlp"
   ]
  },
  {
   "cell_type": "code",
   "execution_count": null,
   "id": "68a79837-6809-4328-8541-6186be42b597",
   "metadata": {},
   "outputs": [],
   "source": [
    "from sparknlp.training import CoNLL\n",
    "trainingData = CoNLL().readDataset(spark, \"../data-files_and_results/fewnerd-train.conll\")\n",
    "trainingData.selectExpr(\n",
    "    \"text\",\n",
    "    \"label.result as label\"\n",
    ").show(3, False)"
   ]
  },
  {
   "cell_type": "code",
   "execution_count": null,
   "id": "04123aa1-d4d4-41d1-84bc-8e5a9643eadb",
   "metadata": {},
   "outputs": [],
   "source": []
  }
 ],
 "metadata": {
  "kernelspec": {
   "display_name": "Python 3 (ipykernel)",
   "language": "python",
   "name": "python3"
  },
  "language_info": {
   "codemirror_mode": {
    "name": "ipython",
    "version": 3
   },
   "file_extension": ".py",
   "mimetype": "text/x-python",
   "name": "python",
   "nbconvert_exporter": "python",
   "pygments_lexer": "ipython3",
   "version": "3.12.9"
  }
 },
 "nbformat": 4,
 "nbformat_minor": 5
}
