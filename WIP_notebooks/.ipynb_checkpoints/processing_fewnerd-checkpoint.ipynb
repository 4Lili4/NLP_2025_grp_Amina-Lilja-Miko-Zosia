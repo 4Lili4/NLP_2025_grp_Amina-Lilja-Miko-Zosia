{
 "cells": [
  {
   "cell_type": "code",
   "execution_count": null,
   "id": "78a83154-7c86-4d79-9dee-9e2d77aa51eb",
   "metadata": {},
   "outputs": [],
   "source": [
    "import pandas as pd"
   ]
  },
  {
   "cell_type": "code",
   "execution_count": null,
   "id": "437e88c6-9e74-42e6-8a2b-409fb3f83ec0",
   "metadata": {},
   "outputs": [],
   "source": [
    "started=False\n",
    "p_data=[]   #[\"-DOCSTART- -X- O O\\n\", \"\\n\"]\n",
    "for line in open(\"../data-files_and_results/fewnerd-data/train.txt\", encoding='utf-8'):\n",
    "\n",
    "    if line==\"\\n\":\n",
    "        p_data.append(line)\n",
    "        continue\n",
    "        \n",
    "    token, tag=line.split(\"\\t\")\n",
    "    \n",
    "    if tag==\"O\\n\" or tag==\"O\":\n",
    "        line=token+\" _ _ O\\n\"\n",
    "        started=False\n",
    "    \n",
    "    elif tag.startswith(\"art\") or tag.startswith(\"product\") or tag.startswith(\"event\"):\n",
    "        line=token+\" _ _ O\\n\"\n",
    "        started=False\n",
    "        \n",
    "    elif tag.startswith(\"building\") or tag.startswith(\"location\"):\n",
    "        if started==False:\n",
    "            line=token+\" _ _ B-LOC\\n\"\n",
    "            started=True\n",
    "            \n",
    "        else:\n",
    "            line=token+\" _ _ I-LOC\\n\"\n",
    "        \n",
    "    elif tag.startswith(\"organization\"):\n",
    "        if started==False:\n",
    "            line=token+\" _ _ B-ORG\\n\"\n",
    "            started=True\n",
    "            \n",
    "        else:\n",
    "            line=token+\" _ _ I-ORG\\n\"\n",
    "            \n",
    "    elif tag.startswith(\"person\"):\n",
    "        if started==False:\n",
    "            line=token+\" _ _ B-PER\\n\"\n",
    "            started=True\n",
    "        else:\n",
    "            line=token+\" _ _ I-PER\\n\"\n",
    "            \n",
    "    elif tag.startswith(\"other\"):\n",
    "        if tag==\"other-god\":\n",
    "            if started==False:\n",
    "                line=token+\" _ _ B-PER\\n\"\n",
    "                started=True\n",
    "            else:\n",
    "                line=token+\" _ _ I-PER\\n\"\n",
    "        else:\n",
    "            line=token+\" _ _ O\\n\"\n",
    "            started=False\n",
    "            \n",
    "    else:\n",
    "        print(\"Weird!\")\n",
    "        print(line)\n",
    "        print(token, tag)\n",
    "    p_data.append(line)"
   ]
  },
  {
   "cell_type": "code",
   "execution_count": null,
   "id": "c0b26f82-147d-4209-ba4a-7a2f27fd2c74",
   "metadata": {},
   "outputs": [],
   "source": [
    "first_half=p_data[:round(len(p_data)/2)+8]\n",
    "second_half=[\"-DOCSTART- -X- O O\\n\", \"\\n\"]+p_data[round(len(p_data)/2)+8:]"
   ]
  },
  {
   "cell_type": "code",
   "execution_count": null,
   "id": "d7e4a8fd-d048-4818-bc7f-ce94151e9187",
   "metadata": {},
   "outputs": [],
   "source": [
    "with open(\"../data-files_and_results/fewnerd_train.conll\", \"w\", encoding=\"utf-8\") as f:\n",
    "    f.write(\"\".join(p_data))\n"
   ]
  },
  {
   "cell_type": "code",
   "execution_count": null,
   "id": "da5a45f2-7274-480a-95a4-75d0843da3bc",
   "metadata": {},
   "outputs": [],
   "source": [
    "p2_data=[]\n",
    "for line in open(\"../data-files_and_results/annotations_results.csv\", encoding='utf-8'):\n",
    "    print(line)"
   ]
  },
  {
   "cell_type": "code",
   "execution_count": null,
   "id": "8d16258b-02c9-45ec-93aa-d10418be406b",
   "metadata": {},
   "outputs": [],
   "source": [
    "pre = pd.read_csv(\"../data-files_and_results/fewnerd-data/test.txt\", header=None, encoding=\"utf-8\", sep=\"\\t\")\n",
    "post = pd.read_csv(\"../data-files_and_results/fewnerd_test.conll\", header=None, encoding=\"utf-8\", sep=\" \")"
   ]
  },
  {
   "cell_type": "code",
   "execution_count": null,
   "id": "6b899273-a846-4619-83a4-075eca98046e",
   "metadata": {},
   "outputs": [],
   "source": [
    "converted_labels=post[3]"
   ]
  },
  {
   "cell_type": "code",
   "execution_count": null,
   "id": "33883867-3ace-45f6-92a2-ef0b85285a60",
   "metadata": {},
   "outputs": [],
   "source": [
    "pre.insert(2, \"conv_labs\", converted_labels)"
   ]
  },
  {
   "cell_type": "code",
   "execution_count": null,
   "id": "7f36140e-8a8f-45b3-9e1b-762873bcc132",
   "metadata": {},
   "outputs": [],
   "source": [
    "pd.options.display.max_rows=500"
   ]
  },
  {
   "cell_type": "code",
   "execution_count": null,
   "id": "1c2a4985-5476-46e3-9d28-480d71acf4ef",
   "metadata": {},
   "outputs": [],
   "source": [
    "pre[:500]"
   ]
  },
  {
   "cell_type": "code",
   "execution_count": null,
   "id": "0e604138-1140-40e4-a1ca-af7e0a5738c6",
   "metadata": {},
   "outputs": [],
   "source": []
  }
 ],
 "metadata": {
  "kernelspec": {
   "display_name": "Python 3 (ipykernel)",
   "language": "python",
   "name": "python3"
  },
  "language_info": {
   "codemirror_mode": {
    "name": "ipython",
    "version": 3
   },
   "file_extension": ".py",
   "mimetype": "text/x-python",
   "name": "python",
   "nbconvert_exporter": "python",
   "pygments_lexer": "ipython3",
   "version": "3.12.9"
  }
 },
 "nbformat": 4,
 "nbformat_minor": 5
}
