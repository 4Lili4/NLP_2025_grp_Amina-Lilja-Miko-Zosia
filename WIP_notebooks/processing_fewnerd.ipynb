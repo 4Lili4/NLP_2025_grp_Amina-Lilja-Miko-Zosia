{
 "cells": [
  {
   "cell_type": "code",
   "execution_count": 1,
   "id": "96cda904-49ec-48cf-9d01-d7787738d699",
   "metadata": {},
   "outputs": [
    {
     "ename": "UnicodeDecodeError",
     "evalue": "'utf-8' codec can't decode byte 0x96 in position 232: invalid start byte",
     "output_type": "error",
     "traceback": [
      "\u001b[31m---------------------------------------------------------------------------\u001b[39m",
      "\u001b[31mUnicodeDecodeError\u001b[39m                        Traceback (most recent call last)",
      "\u001b[36mCell\u001b[39m\u001b[36m \u001b[39m\u001b[32mIn[1]\u001b[39m\u001b[32m, line 3\u001b[39m\n\u001b[32m      1\u001b[39m p_data_1=[\u001b[33m\"\u001b[39m\u001b[33m-DOCSTART- -X- -X- O\u001b[39m\u001b[38;5;130;01m\\n\u001b[39;00m\u001b[33m\"\u001b[39m, \u001b[33m\"\u001b[39m\u001b[38;5;130;01m\\n\u001b[39;00m\u001b[33m\"\u001b[39m]\n\u001b[32m      2\u001b[39m p_data_2=[\u001b[33m\"\u001b[39m\u001b[33m-DOCSTART- -X- -X- O\u001b[39m\u001b[38;5;130;01m\\n\u001b[39;00m\u001b[33m\"\u001b[39m, \u001b[33m\"\u001b[39m\u001b[38;5;130;01m\\n\u001b[39;00m\u001b[33m\"\u001b[39m]\n\u001b[32m----> \u001b[39m\u001b[32m3\u001b[39m \u001b[38;5;28;01mfor\u001b[39;00m line \u001b[38;5;129;01min\u001b[39;00m \u001b[38;5;28mopen\u001b[39m(\u001b[33m\"\u001b[39m\u001b[33m../data-files_and_results/annotations_Results.txt\u001b[39m\u001b[33m\"\u001b[39m, encoding=\u001b[33m'\u001b[39m\u001b[33mutf-8\u001b[39m\u001b[33m'\u001b[39m):\n\u001b[32m      4\u001b[39m     \u001b[38;5;28;01mif\u001b[39;00m line[\u001b[32m0\u001b[39m]==\u001b[33m\"\u001b[39m\u001b[33m#\u001b[39m\u001b[33m\"\u001b[39m:\n\u001b[32m      5\u001b[39m         p_data_1.append(\u001b[33m\"\u001b[39m\u001b[38;5;130;01m\\n\u001b[39;00m\u001b[33m\"\u001b[39m)\n",
      "\u001b[36mFile \u001b[39m\u001b[32m~\\anaconda3\\envs\\nlp_grp1\\Lib\\codecs.py:322\u001b[39m, in \u001b[36mBufferedIncrementalDecoder.decode\u001b[39m\u001b[34m(self, input, final)\u001b[39m\n\u001b[32m    319\u001b[39m \u001b[38;5;28;01mdef\u001b[39;00m\u001b[38;5;250m \u001b[39m\u001b[34mdecode\u001b[39m(\u001b[38;5;28mself\u001b[39m, \u001b[38;5;28minput\u001b[39m, final=\u001b[38;5;28;01mFalse\u001b[39;00m):\n\u001b[32m    320\u001b[39m     \u001b[38;5;66;03m# decode input (taking the buffer into account)\u001b[39;00m\n\u001b[32m    321\u001b[39m     data = \u001b[38;5;28mself\u001b[39m.buffer + \u001b[38;5;28minput\u001b[39m\n\u001b[32m--> \u001b[39m\u001b[32m322\u001b[39m     (result, consumed) = \u001b[38;5;28mself\u001b[39m._buffer_decode(data, \u001b[38;5;28mself\u001b[39m.errors, final)\n\u001b[32m    323\u001b[39m     \u001b[38;5;66;03m# keep undecoded input until the next call\u001b[39;00m\n\u001b[32m    324\u001b[39m     \u001b[38;5;28mself\u001b[39m.buffer = data[consumed:]\n",
      "\u001b[31mUnicodeDecodeError\u001b[39m: 'utf-8' codec can't decode byte 0x96 in position 232: invalid start byte"
     ]
    }
   ],
   "source": [
    "p_data_1=[\"-DOCSTART- -X- -X- O\\n\", \"\\n\"]\n",
    "p_data_2=[\"-DOCSTART- -X- -X- O\\n\", \"\\n\"]\n",
    "for line in open(\"../data-files_and_results/annotations_Results.txt\", encoding='utf-8'):\n",
    "    if line[0]==\"#\":\n",
    "        p_data_1.append(\"\\n\")\n",
    "        p_data_2.append(\"\\n\")\n",
    "        continue\n",
    "    try:\n",
    "        token, tag1, tag2 = line.split(\";\")\n",
    "        p_data_1.append(token+\" _ _ \"+tag1+\"\\n\")\n",
    "        p_data_2.append(token+\" _ _ \"+tag2+\"\\n\")\n",
    "    except:\n",
    "        print(line)\n",
    "    \n",
    "p_data_1.append(\". . O O\")\n",
    "p_data_2.append(\". . O O\")\n",
    "with open(\"../data-files_and_results/wikiann_test1.conll\", \"w\", encoding=\"utf-8\") as f:\n",
    "    f.write(\"\".join(p_data_1))\n",
    "with open(\"../data-files_and_results/wikiann_test2.conll\", \"w\", encoding=\"utf-8\") as f:\n",
    "    f.write(\"\".join(p_data_2))"
   ]
  },
  {
   "cell_type": "code",
   "execution_count": null,
   "id": "437e88c6-9e74-42e6-8a2b-409fb3f83ec0",
   "metadata": {},
   "outputs": [],
   "source": [
    "started=False\n",
    "p_data=[\"-DOCSTART- -X- -X- O\\n\", \"\\n\"]\n",
    "for line in open(\"../data-files_and_results/fewnerd-data/train.txt\", encoding='utf-8'):\n",
    "\n",
    "    if line==\"\\n\":\n",
    "        p_data.append(line)\n",
    "        continue\n",
    "        \n",
    "    token, tag=line.split(\"\\t\")\n",
    "    \n",
    "    if tag==\"O\\n\" or tag==\"O\":\n",
    "        line=token+\" _ _ O\\n\"\n",
    "        started=False\n",
    "    \n",
    "    elif tag.startswith(\"art\") or tag.startswith(\"product\") or tag.startswith(\"event\"):\n",
    "        line=token+\" _ _ O\\n\"\n",
    "        started=False\n",
    "        \n",
    "    elif tag.startswith(\"building\") or tag.startswith(\"location\"):\n",
    "        if started==False:\n",
    "            line=token+\" _ _ B-LOC\\n\"\n",
    "            started=True\n",
    "            \n",
    "        else:\n",
    "            line=token+\" _ _ I-LOC\\n\"\n",
    "        \n",
    "    elif tag.startswith(\"organization\"):\n",
    "        if started==False:\n",
    "            line=token+\" _ _ B-ORG\\n\"\n",
    "            started=True\n",
    "            \n",
    "        else:\n",
    "            line=token+\" _ _ I-ORG\\n\"\n",
    "            \n",
    "    elif tag.startswith(\"person\"):\n",
    "        if started==False:\n",
    "            line=token+\" _ _ B-PER\\n\"\n",
    "            started=True\n",
    "        else:\n",
    "            line=token+\" _ _ I-PER\\n\"\n",
    "            \n",
    "    elif tag.startswith(\"other\"):\n",
    "        if tag==\"other-god\":\n",
    "            if started==False:\n",
    "                line=token+\" _ _ B-PER\\n\"\n",
    "                started=True\n",
    "            else:\n",
    "                line=token+\" _ _ I-PER\\n\"\n",
    "        else:\n",
    "            line=token+\" _ _ O\\n\"\n",
    "            started=False\n",
    "            \n",
    "    else:\n",
    "        print(\"Weird!\")\n",
    "        print(line)\n",
    "        print(token, tag)\n",
    "    p_data.append(line)\n",
    "p_data.append(\". . O O\")"
   ]
  },
  {
   "cell_type": "code",
   "execution_count": null,
   "id": "d7e4a8fd-d048-4818-bc7f-ce94151e9187",
   "metadata": {},
   "outputs": [],
   "source": [
    "with open(\"../data-files_and_results/fewnerd_train.conll\", \"w\", encoding=\"utf-8\") as f:\n",
    "    f.write(\"\".join(p_data))"
   ]
  },
  {
   "cell_type": "code",
   "execution_count": null,
   "id": "cc0f552d-da32-4e4e-b27d-3f2c8420dc18",
   "metadata": {},
   "outputs": [],
   "source": []
  },
  {
   "cell_type": "code",
   "execution_count": null,
   "id": "c0b26f82-147d-4209-ba4a-7a2f27fd2c74",
   "metadata": {},
   "outputs": [],
   "source": [
    "first_half=p_data[:round(len(p_data)/2)+8]\n",
    "second_half=[\"-DOCSTART- -X- O O\\n\", \"\\n\"]+p_data[round(len(p_data)/2)+8:]"
   ]
  },
  {
   "cell_type": "code",
   "execution_count": null,
   "id": "78a83154-7c86-4d79-9dee-9e2d77aa51eb",
   "metadata": {},
   "outputs": [],
   "source": [
    "import pandas as pd"
   ]
  },
  {
   "cell_type": "code",
   "execution_count": null,
   "id": "8d16258b-02c9-45ec-93aa-d10418be406b",
   "metadata": {},
   "outputs": [],
   "source": [
    "pre = pd.read_csv(\"../data-files_and_results/fewnerd-data/test.txt\", header=None, encoding=\"utf-8\", sep=\"\\t\")\n",
    "post = pd.read_csv(\"../data-files_and_results/fewnerd_test.conll\", header=None, encoding=\"utf-8\", sep=\" \")"
   ]
  },
  {
   "cell_type": "code",
   "execution_count": null,
   "id": "1fde20b9-c7c2-4033-97e2-94a350685718",
   "metadata": {},
   "outputs": [],
   "source": [
    "post.head()"
   ]
  },
  {
   "cell_type": "code",
   "execution_count": null,
   "id": "6b899273-a846-4619-83a4-075eca98046e",
   "metadata": {},
   "outputs": [],
   "source": [
    "converted_labels=post[3]"
   ]
  },
  {
   "cell_type": "code",
   "execution_count": null,
   "id": "33883867-3ace-45f6-92a2-ef0b85285a60",
   "metadata": {},
   "outputs": [],
   "source": [
    "pre.insert(2, \"conv_labs\", converted_labels)"
   ]
  },
  {
   "cell_type": "code",
   "execution_count": null,
   "id": "7f36140e-8a8f-45b3-9e1b-762873bcc132",
   "metadata": {},
   "outputs": [],
   "source": [
    "pd.options.display.max_rows=500"
   ]
  },
  {
   "cell_type": "code",
   "execution_count": null,
   "id": "1c2a4985-5476-46e3-9d28-480d71acf4ef",
   "metadata": {},
   "outputs": [],
   "source": [
    "pre[:500]"
   ]
  },
  {
   "cell_type": "code",
   "execution_count": null,
   "id": "0e604138-1140-40e4-a1ca-af7e0a5738c6",
   "metadata": {},
   "outputs": [],
   "source": []
  }
 ],
 "metadata": {
  "kernelspec": {
   "display_name": "Python 3 (ipykernel)",
   "language": "python",
   "name": "python3"
  },
  "language_info": {
   "codemirror_mode": {
    "name": "ipython",
    "version": 3
   },
   "file_extension": ".py",
   "mimetype": "text/x-python",
   "name": "python",
   "nbconvert_exporter": "python",
   "pygments_lexer": "ipython3",
   "version": "3.12.3"
  }
 },
 "nbformat": 4,
 "nbformat_minor": 5
}
