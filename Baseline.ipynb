{
 "cells": [
  {
   "cell_type": "markdown",
   "id": "daaed996-8a90-4c96-9323-7bfcfbaf04f7",
   "metadata": {},
   "source": [
    "# Baseline for EWT\n",
    "To get your project started, you start with implementing a baseline model. Ideally, this is going to be the main baseline that you are going to compare to in your paper. Note that this baseline should be more advanced than just predicting the majority class (O).\n",
    "\n",
    "We will use EWT portion of the Universal NER project, which we provide in the folder \"Project_description\" for convenience. You can use the train data (en_ewt-ud-train.iob2) and dev data(en_ewt-ud-dev.iob2) to build your baseline, then upload your prediction on the test data (en_ewt-ud-test.iob2).\n",
    "\n",
    "It is important to upload your predictions in same format as the training and dev files, so that the span_f1.py script can be used.\n",
    "\n",
    "Note that you do not have to implement your baseline from scratch, you can use for example the code from the RNN or BERT assignments as a starting point."
   ]
  },
  {
   "cell_type": "markdown",
   "id": "4691647c-77cd-4c78-8100-72f35e6e838c",
   "metadata": {},
   "source": [
    "## Step 1: read in the data\n",
    "Conll-approach retro-fitted for ewt-data, adjusted to be iob2-format-friendly"
   ]
  },
  {
   "cell_type": "code",
   "execution_count": 1,
   "id": "b813eb5c-0266-4f4a-a8ab-7690fc6538a9",
   "metadata": {},
   "outputs": [],
   "source": [
    "def read_ewt_file(path):\n",
    "    data=[]\n",
    "    words=[]\n",
    "    tags=[]\n",
    "    nr_tags=0\n",
    "    nr_toks=0\n",
    "    \n",
    "    for line in open(path, encoding='utf-8'):\n",
    "        line=line.strip()\n",
    "        \n",
    "        if line:\n",
    "            if line[0]=='#':\n",
    "                continue\n",
    "    \n",
    "            elements=line.split('\\t')\n",
    "            nr_toks+=1\n",
    "            \n",
    "            words.append(elements[1])\n",
    "            tags.append(elements[2])\n",
    "            \n",
    "            if elements[3]!='-':\n",
    "                print(elements[3])\n",
    "            if elements[4]=='stephen':\n",
    "                nr_tags+=1\n",
    "    \n",
    "        else:\n",
    "            if words:\n",
    "                data.append((words, tags))\n",
    "            words=[]\n",
    "            tags=[]\n",
    "\n",
    "    if tags!=[]:\n",
    "        data.append((words, tags))\n",
    "\n",
    "    proportion_tagged=nr_tags/nr_toks\n",
    "    \n",
    "    return data, proportion_tagged"
   ]
  },
  {
   "cell_type": "code",
   "execution_count": 3,
   "id": "7846e188-d6eb-4d0b-98cf-3202c149018a",
   "metadata": {},
   "outputs": [
    {
     "name": "stdout",
     "output_type": "stream",
     "text": [
      "Proportion of training data tagged:  0.050640583833140254\n",
      "Proportion of testing data tagged:  0.05948546661895105\n"
     ]
    }
   ],
   "source": [
    "train_data,prop_tag_train=read_ewt_file('Project_description/en_ewt-ud-train.iob2')\n",
    "test_data,prop_tag_test=read_ewt_file('Project_description/en_ewt-ud-dev.iob2')\n",
    "print(\"Proportion of training data tagged: \", prop_tag_train)\n",
    "print(\"Proportion of testing data tagged: \", prop_tag_test)"
   ]
  },
  {
   "cell_type": "markdown",
   "id": "f1782744-4e8a-4543-9ea8-d932117d0a5b",
   "metadata": {},
   "source": [
    "## Step 2: Implement BERT model"
   ]
  },
  {
   "cell_type": "code",
   "execution_count": null,
   "id": "2f24a14c-8efb-462b-b9f5-eeabed5f2b84",
   "metadata": {},
   "outputs": [],
   "source": []
  }
 ],
 "metadata": {
  "kernelspec": {
   "display_name": "Python 3 (ipykernel)",
   "language": "python",
   "name": "python3"
  },
  "language_info": {
   "codemirror_mode": {
    "name": "ipython",
    "version": 3
   },
   "file_extension": ".py",
   "mimetype": "text/x-python",
   "name": "python",
   "nbconvert_exporter": "python",
   "pygments_lexer": "ipython3",
   "version": "3.12.9"
  }
 },
 "nbformat": 4,
 "nbformat_minor": 5
}
