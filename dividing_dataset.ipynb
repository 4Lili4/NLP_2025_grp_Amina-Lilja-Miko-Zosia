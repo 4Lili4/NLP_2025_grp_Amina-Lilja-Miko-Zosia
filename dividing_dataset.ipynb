{
 "cells": [
  {
   "cell_type": "code",
   "execution_count": 1,
   "id": "d8f0dffa-c96e-4bc9-8e0a-26c624e9f340",
   "metadata": {},
   "outputs": [],
   "source": [
    "# Import libraries\n",
    "import pandas as pd"
   ]
  },
  {
   "cell_type": "code",
   "execution_count": 2,
   "id": "21a65e82-116a-46cd-a778-0af72f2389b7",
   "metadata": {},
   "outputs": [],
   "source": [
    "# Read in the data from the  huggingface library\n",
    "\n",
    "splits = {'validation': 'en/validation-00000-of-00001.parquet', 'test': 'en/test-00000-of-00001.parquet', 'train': 'en/train-00000-of-00001.parquet'}\n",
    "val = pd.read_parquet(\"hf://datasets/unimelb-nlp/wikiann/\" + splits[\"validation\"])\n",
    "test = pd.read_parquet(\"hf://datasets/unimelb-nlp/wikiann/\" + splits[\"test\"])\n",
    "train = pd.read_parquet(\"hf://datasets/unimelb-nlp/wikiann/\" + splits[\"train\"])"
   ]
  },
  {
   "cell_type": "code",
   "execution_count": 3,
   "id": "be91f050-0321-4c72-852b-fc99a516062a",
   "metadata": {},
   "outputs": [],
   "source": [
    "# Extract 2000 rows from the training data\n",
    "\n",
    "subset=train[train.index % 10 == 0].copy()"
   ]
  },
  {
   "cell_type": "code",
   "execution_count": 4,
   "id": "64616266-df20-40ec-91e6-f6db1a922148",
   "metadata": {},
   "outputs": [],
   "source": [
    "# Convert each list of tokens to a readable string\n",
    "\n",
    "sentences=[]\n",
    "for index, row in subset.iterrows():\n",
    "    sent=\" \".join(row['tokens'])\n",
    "    sent=\"# New sentence = \"+sent\n",
    "    sentences.append(sent)"
   ]
  },
  {
   "cell_type": "code",
   "execution_count": 5,
   "id": "08cf511f-33dc-4ac0-972a-7a0deb96d838",
   "metadata": {},
   "outputs": [
    {
     "data": {
      "text/plain": [
       "(4000, 4)"
      ]
     },
     "execution_count": 5,
     "metadata": {},
     "output_type": "execute_result"
    }
   ],
   "source": [
    "# Add the sentence strings before each list of strings row in the dataframe\n",
    "\n",
    "yikes=subset.copy()\n",
    "for i, sentence in reversed(list(enumerate(sentences))):\n",
    "    line=pd.DataFrame({'tokens':sentence, 'ner_tags':[0], 'langs':['en'], 'spans':['']})\n",
    "    yikes=pd.concat([yikes.iloc[:i], line, yikes.iloc[i:]]).reset_index(drop=True)\n",
    "\n",
    "yikes.shape"
   ]
  },
  {
   "cell_type": "code",
   "execution_count": 6,
   "id": "64d10838-198e-4d7c-9ca7-dd5941564191",
   "metadata": {},
   "outputs": [],
   "source": [
    "A=yikes[0:1000]\n",
    "B=yikes[1000:2000]\n",
    "C=yikes[2000:3000]\n",
    "D=yikes[3000:4000]"
   ]
  },
  {
   "cell_type": "code",
   "execution_count": 7,
   "id": "11d379a9-12a9-4f27-ac71-2aafb59b9568",
   "metadata": {},
   "outputs": [],
   "source": [
    "Am=pd.concat([A, D])\n",
    "Li=pd.concat([A,B])\n",
    "Mi=pd.concat([B,C])\n",
    "Zo=pd.concat([C,D])"
   ]
  },
  {
   "cell_type": "code",
   "execution_count": 12,
   "id": "ad65ffaa-e811-41d5-9587-619fc40333d5",
   "metadata": {},
   "outputs": [],
   "source": [
    "Amina=Am.explode('tokens')\n",
    "Amina['labels']=0\n",
    "Amina=Amina[['tokens', 'labels']]\n",
    "Amina.to_csv('Amina_annotations.csv', index=False, encoding='UTF-8', sep=';')"
   ]
  },
  {
   "cell_type": "code",
   "execution_count": 13,
   "id": "40e3b632-280f-450f-a573-cf2502735c3e",
   "metadata": {},
   "outputs": [],
   "source": [
    "Lilja=Li.explode('tokens')\n",
    "Lilja['labels']=0\n",
    "Lilja=Lilja[['tokens', 'labels']]\n",
    "Lilja.to_csv('Lilja_annotations.csv', index=False, encoding='UTF-8', sep=';')"
   ]
  },
  {
   "cell_type": "code",
   "execution_count": 14,
   "id": "c4bada65-d1d8-4fbc-947b-4fd37d676140",
   "metadata": {},
   "outputs": [],
   "source": [
    "Miko=Mi.explode('tokens')\n",
    "Miko['labels']=0\n",
    "Miko=Miko[['tokens', 'labels']]\n",
    "Miko.to_csv('Mikolaj_annotations.csv', index=False, encoding='UTF-8', sep=';')"
   ]
  },
  {
   "cell_type": "code",
   "execution_count": 15,
   "id": "f28a5a14-5fa5-4fb5-92f5-44c59b2647f5",
   "metadata": {},
   "outputs": [],
   "source": [
    "Zosia=Zo.explode('tokens')\n",
    "Zosia['labels']=0\n",
    "Zosia=Zosia[['tokens', 'labels']]\n",
    "Zosia.to_csv('Zosia_annotations.csv', index=False, encoding='UTF-8', sep=';')"
   ]
  },
  {
   "cell_type": "code",
   "execution_count": null,
   "id": "f4d57ade-1888-4da1-8d84-dd0da5800168",
   "metadata": {},
   "outputs": [],
   "source": []
  }
 ],
 "metadata": {
  "kernelspec": {
   "display_name": "Python 3 (ipykernel)",
   "language": "python",
   "name": "python3"
  },
  "language_info": {
   "codemirror_mode": {
    "name": "ipython",
    "version": 3
   },
   "file_extension": ".py",
   "mimetype": "text/x-python",
   "name": "python",
   "nbconvert_exporter": "python",
   "pygments_lexer": "ipython3",
   "version": "3.13.2"
  }
 },
 "nbformat": 4,
 "nbformat_minor": 5
}
