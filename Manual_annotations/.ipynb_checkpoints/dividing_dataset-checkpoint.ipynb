{
 "cells": [
  {
   "cell_type": "markdown",
   "id": "4dc2e3eb-254a-4642-84c3-a6120f248de8",
   "metadata": {},
   "source": [
    "# Reading in the data"
   ]
  },
  {
   "cell_type": "code",
   "execution_count": null,
   "id": "d8f0dffa-c96e-4bc9-8e0a-26c624e9f340",
   "metadata": {},
   "outputs": [],
   "source": [
    "# Import libraries\n",
    "import pandas as pd"
   ]
  },
  {
   "cell_type": "code",
   "execution_count": null,
   "id": "21a65e82-116a-46cd-a778-0af72f2389b7",
   "metadata": {},
   "outputs": [],
   "source": [
    "# Read in the data from the  huggingface library\n",
    "\n",
    "splits = {'validation': 'en/validation-00000-of-00001.parquet', 'test': 'en/test-00000-of-00001.parquet', 'train': 'en/train-00000-of-00001.parquet'}\n",
    "train = pd.read_parquet(\"hf://datasets/unimelb-nlp/wikiann/\" + splits[\"train\"])\n",
    "val = pd.read_parquet(\"hf://datasets/unimelb-nlp/wikiann/\" + splits[\"validation\"])\n",
    "test = pd.read_parquet(\"hf://datasets/unimelb-nlp/wikiann/\" + splits[\"test\"])"
   ]
  },
  {
   "cell_type": "code",
   "execution_count": null,
   "id": "be91f050-0321-4c72-852b-fc99a516062a",
   "metadata": {},
   "outputs": [],
   "source": [
    "# Extract 2000 rows from the training data\n",
    "\n",
    "subset=train[train.index % 10 == 0].copy()"
   ]
  },
  {
   "cell_type": "code",
   "execution_count": null,
   "id": "b67c2a40-3db1-4f98-9ee8-4ef0ecf174ba",
   "metadata": {},
   "outputs": [],
   "source": [
    "#subset[['tokens', 'ner_tags']].head(30)"
   ]
  },
  {
   "cell_type": "code",
   "execution_count": null,
   "id": "64616266-df20-40ec-91e6-f6db1a922148",
   "metadata": {},
   "outputs": [],
   "source": [
    "# Convert each list of tokens to a readable string\n",
    "\n",
    "sentences=[]\n",
    "for index, row in subset.iterrows():\n",
    "    sent=\" \".join(row['tokens'])\n",
    "    sent=\"# New sentence = \"+sent\n",
    "    sentences.append(sent)"
   ]
  },
  {
   "cell_type": "code",
   "execution_count": null,
   "id": "08cf511f-33dc-4ac0-972a-7a0deb96d838",
   "metadata": {},
   "outputs": [],
   "source": [
    "# Add the sentence strings before each list of strings row in the dataframe\n",
    "\n",
    "yikes=subset.copy()\n",
    "for i, sentence in reversed(list(enumerate(sentences))):\n",
    "    line=pd.DataFrame({'tokens':sentence, 'ner_tags':[0], 'langs':['en'], 'spans':['']})\n",
    "    yikes=pd.concat([yikes.iloc[:i], line, yikes.iloc[i:]]).reset_index(drop=True)\n",
    "\n",
    "yikes.shape"
   ]
  },
  {
   "cell_type": "markdown",
   "id": "e5a95a92-2169-432b-a2cd-4888a601fd78",
   "metadata": {},
   "source": [
    "# Dividing it between us"
   ]
  },
  {
   "cell_type": "code",
   "execution_count": null,
   "id": "64d10838-198e-4d7c-9ca7-dd5941564191",
   "metadata": {},
   "outputs": [],
   "source": [
    "A=yikes[0:1000]\n",
    "B=yikes[1000:2000]\n",
    "C=yikes[2000:3000]\n",
    "D=yikes[3000:4000]"
   ]
  },
  {
   "cell_type": "code",
   "execution_count": null,
   "id": "1726c907-99a6-4f3b-bb18-82e5cad0f59b",
   "metadata": {},
   "outputs": [],
   "source": [
    "A_len=len(A.explode('tokens'))\n",
    "B_len=len(B.explode('tokens'))\n",
    "C_len=len(C.explode('tokens'))\n",
    "D_len=len(D.explode('tokens'))"
   ]
  },
  {
   "cell_type": "code",
   "execution_count": null,
   "id": "e84a91e9-7c5f-4218-be02-b5ccf87c93df",
   "metadata": {},
   "outputs": [],
   "source": [
    "D_len"
   ]
  },
  {
   "cell_type": "code",
   "execution_count": null,
   "id": "11d379a9-12a9-4f27-ac71-2aafb59b9568",
   "metadata": {},
   "outputs": [],
   "source": [
    "Am=pd.concat([A, D])\n",
    "Li=pd.concat([A,B])\n",
    "Mi=pd.concat([B,C])\n",
    "Zo=pd.concat([C,D])"
   ]
  },
  {
   "cell_type": "code",
   "execution_count": null,
   "id": "ad65ffaa-e811-41d5-9587-619fc40333d5",
   "metadata": {},
   "outputs": [],
   "source": [
    "Amina=Am.explode('tokens')\n",
    "Amina['labels']=0\n",
    "Amina=Amina[['tokens', 'labels']]\n",
    "# Amina.to_csv('Amina_annotations.csv', index=False, encoding='UTF-8', sep=';')"
   ]
  },
  {
   "cell_type": "code",
   "execution_count": null,
   "id": "40e3b632-280f-450f-a573-cf2502735c3e",
   "metadata": {},
   "outputs": [],
   "source": [
    "Lilja=Li.explode('tokens')\n",
    "Lilja['labels']=0\n",
    "Lilja=Lilja[['tokens', 'labels']]\n",
    "# Lilja.to_csv('Lilja_annotations.csv', index=False, encoding='UTF-8', sep=';')"
   ]
  },
  {
   "cell_type": "code",
   "execution_count": null,
   "id": "c4bada65-d1d8-4fbc-947b-4fd37d676140",
   "metadata": {},
   "outputs": [],
   "source": [
    "Miko=Mi.explode('tokens')\n",
    "Miko['labels']=0\n",
    "Miko=Miko[['tokens', 'labels']]\n",
    "# Miko.to_csv('Mikolaj_annotations.csv', index=False, encoding='UTF-8', sep=';')"
   ]
  },
  {
   "cell_type": "code",
   "execution_count": null,
   "id": "f28a5a14-5fa5-4fb5-92f5-44c59b2647f5",
   "metadata": {},
   "outputs": [],
   "source": [
    "Zosia=Zo.explode('tokens')\n",
    "Zosia['labels']=0\n",
    "Zosia=Zosia[['tokens', 'labels']]\n",
    "# Zosia.to_csv('Zosia_annotations.csv', index=False, encoding='UTF-8', sep=';')"
   ]
  },
  {
   "cell_type": "markdown",
   "id": "367ce8df-e7c9-4276-a376-f5811124241e",
   "metadata": {},
   "source": [
    "# Reading the results back in"
   ]
  },
  {
   "cell_type": "code",
   "execution_count": null,
   "id": "6b4f6a25-3d0e-4657-b800-f91d004b1583",
   "metadata": {},
   "outputs": [],
   "source": [
    "am_results=pd.read_csv('Amina_annotations.csv', sep=';', encoding='latin-1')\n",
    "li_results=pd.read_csv('Lilja_annotations_better_version.csv', sep=';')\n",
    "mi_results=pd.read_csv('Mikolaj_annotations_done.csv', sep=';')\n",
    "zo_results=pd.read_csv('Zosia_annotations_done.csv', sep=';')"
   ]
  },
  {
   "cell_type": "code",
   "execution_count": null,
   "id": "022406e3-7dbd-46f1-b779-2d906a83200f",
   "metadata": {},
   "outputs": [],
   "source": [
    "mi_results=mi_results.fillna(value=0)"
   ]
  },
  {
   "cell_type": "code",
   "execution_count": null,
   "id": "5454458a-f072-4cb6-9b9d-33e255cf408c",
   "metadata": {},
   "outputs": [],
   "source": [
    "sentence=''\n",
    "YAY=0\n",
    "FALSEPOSNEG=0\n",
    "ORGLOCERR=0\n",
    "LOCSPLITERR=0\n",
    "\n",
    "for index, row in mi_results.iterrows():\n",
    "    token=row[0]\n",
    "    label1=row[1]\n",
    "    label2=row[2]\n",
    "    if token[0]=='#':\n",
    "        sentence=token[17:]\n",
    "        continue\n",
    "    if label1 == label2:\n",
    "        YAY +=1\n",
    "    else:\n",
    "        if ( ( label1 in [3,4] ) and (label2 in [5,6] ) ) or ( ( label2 in [3,4] ) and (label1 in [5,6] ) ):\n",
    "            ORGLOCERR+=1\n",
    "        elif label1=='g':\n",
    "            LOCSPLITERR+=1\n",
    "        elif label1=='0' or label2=='0':\n",
    "            FALSEPOSNEG+=1\n",
    "        else:\n",
    "            print(token, label1, label2, sentence)"
   ]
  },
  {
   "cell_type": "code",
   "execution_count": null,
   "id": "f9364b7a-97d2-4229-9156-bd7d0e1e107b",
   "metadata": {},
   "outputs": [],
   "source": []
  }
 ],
 "metadata": {
  "kernelspec": {
   "display_name": "Python 3 (ipykernel)",
   "language": "python",
   "name": "python3"
  },
  "language_info": {
   "codemirror_mode": {
    "name": "ipython",
    "version": 3
   },
   "file_extension": ".py",
   "mimetype": "text/x-python",
   "name": "python",
   "nbconvert_exporter": "python",
   "pygments_lexer": "ipython3",
   "version": "3.13.2"
  }
 },
 "nbformat": 4,
 "nbformat_minor": 5
}
